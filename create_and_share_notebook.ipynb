{
 "cells": [
  {
   "cell_type": "markdown",
   "id": "c082e48a-f964-4127-8ba4-55f9479353ca",
   "metadata": {},
   "source": [
    "# My Jupyter Notebook on IBM Watson Studio"
   ]
  },
  {
   "cell_type": "markdown",
   "id": "d363aadd-2e7d-43fd-8c73-a7b39fec7b71",
   "metadata": {},
   "source": [
    "**Carlos Buitrago**\n",
    "\n",
    "Last-year physics BSc. Student"
   ]
  },
  {
   "cell_type": "markdown",
   "id": "0dddf061-6fd4-4cd2-96d4-a110141771c7",
   "metadata": {},
   "source": [
    "*Data science is a really useful in my field of study, and I'm really interested in learning the mindset and tools of a data scientist.*"
   ]
  },
  {
   "cell_type": "markdown",
   "id": "6d55313f-ac58-4dd6-a7e2-bebc4d1b475d",
   "metadata": {},
   "source": [
    "### My code creates a list with even numbers from one to twenty and then prints it"
   ]
  },
  {
   "cell_type": "code",
   "execution_count": 2,
   "id": "f0821269-514f-4e20-95ab-20e88a1e33d1",
   "metadata": {},
   "outputs": [
    {
     "name": "stdout",
     "output_type": "stream",
     "text": [
      "[2, 4, 6, 8, 10, 12, 14, 16, 18, 20]\n"
     ]
    }
   ],
   "source": [
    "even_numbers = []\n",
    "\n",
    "for i in range(1,21):\n",
    "    if i % 2 == 0:\n",
    "        even_numbers.append(i)\n",
    "        \n",
    "print(even_numbers)"
   ]
  },
  {
   "cell_type": "markdown",
   "id": "c765156f-3d5a-4d38-b474-3ddf0cfa3950",
   "metadata": {},
   "source": [
    "This is a bulleted list:\n",
    "- Item 1\n",
    "- Item 2\n",
    "- Item 3\n",
    "- Item 4\n",
    "\n",
    "This is a table:\n",
    "|Header 1|Header 2|\n",
    "|--------|--------|\n",
    "|Item 1  |Item 2  |\n",
    "|Item 3  |Item 4  |\n",
    "\n",
    "This is a line of code:\n",
    "`print(\"Hello World\")`\n"
   ]
  },
  {
   "cell_type": "code",
   "execution_count": null,
   "id": "ddf31ad9-d360-4068-91df-47a545e6e77b",
   "metadata": {},
   "outputs": [],
   "source": []
  }
 ],
 "metadata": {
  "kernelspec": {
   "display_name": "Python",
   "language": "python",
   "name": "conda-env-python-py"
  },
  "language_info": {
   "codemirror_mode": {
    "name": "ipython",
    "version": 3
   },
   "file_extension": ".py",
   "mimetype": "text/x-python",
   "name": "python",
   "nbconvert_exporter": "python",
   "pygments_lexer": "ipython3",
   "version": "3.7.12"
  }
 },
 "nbformat": 4,
 "nbformat_minor": 5
}
